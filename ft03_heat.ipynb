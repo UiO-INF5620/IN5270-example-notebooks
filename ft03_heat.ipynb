{
 "cells": [
  {
   "cell_type": "code",
   "execution_count": 1,
   "metadata": {},
   "outputs": [
    {
     "name": "stdout",
     "output_type": "stream",
     "text": [
      "t = 0.20: error = 3.11e-15\n",
      "t = 0.40: error = 2.22e-15\n",
      "t = 0.60: error = 2.66e-15\n",
      "t = 0.80: error = 4e-15\n",
      "t = 1.00: error = 4e-15\n",
      "t = 1.20: error = 4e-15\n",
      "t = 1.40: error = 4.44e-15\n",
      "t = 1.60: error = 4.88e-15\n",
      "t = 1.80: error = 3.55e-15\n",
      "t = 2.00: error = 4.44e-15\n"
     ]
    }
   ],
   "source": [
    "\"\"\"\n",
    "FEniCS tutorial demo program: Heat equation with Dirichlet conditions.\n",
    "Test problem is chosen to give an exact solution at all nodes of the mesh.\n",
    "  u'= Laplace(u) + f  in the unit square\n",
    "  u = u_D             on the boundary\n",
    "  u = u_0             at t = 0\n",
    "  u = 1 + x^2 + alpha*y^2 + \\beta*t\n",
    "  f = beta - 2 - 2*alpha\n",
    "\"\"\"\n",
    "\n",
    "from __future__ import print_function\n",
    "from fenics import *\n",
    "import numpy as np\n",
    "\n",
    "T = 2.0            # final time\n",
    "num_steps = 10     # number of time steps\n",
    "dt = T / num_steps # time step size\n",
    "alpha = 3          # parameter alpha\n",
    "beta = 1.2         # parameter beta\n",
    "\n",
    "# Create mesh and define function space\n",
    "nx = ny = 8\n",
    "mesh = UnitSquareMesh(nx, ny)\n",
    "V = FunctionSpace(mesh, 'P', 1)\n",
    "\n",
    "# Define boundary condition\n",
    "u_D = Expression('1 + x[0]*x[0] + alpha*x[1]*x[1] + beta*t',\n",
    "                 degree=2, alpha=alpha, beta=beta, t=0)\n",
    "\n",
    "def boundary(x, on_boundary):\n",
    "    return on_boundary\n",
    "\n",
    "bc = DirichletBC(V, u_D, boundary)\n",
    "\n",
    "# Define initial value\n",
    "u_n = interpolate(u_D, V)\n",
    "#u_n = project(u_D, V)\n",
    "\n",
    "# Define variational problem\n",
    "u = TrialFunction(V)\n",
    "v = TestFunction(V)\n",
    "f = Constant(beta - 2 - 2*alpha)\n",
    "\n",
    "a = u*v*dx + dt*dot(grad(u), grad(v))*dx\n",
    "L = (u_n + dt*f)*v*dx\n",
    "\n",
    "# Time-stepping\n",
    "u = Function(V)\n",
    "t = 0\n",
    "for n in range(num_steps):\n",
    "\n",
    "    # Update current time\n",
    "    t += dt\n",
    "    u_D.t = t\n",
    "\n",
    "    # Compute solution\n",
    "    solve(a == L, u, bc)\n",
    "\n",
    "    # Plot solution\n",
    "    plot(u)\n",
    "\n",
    "    # Compute error at vertices\n",
    "    vertex_values_u_D = u_D.compute_vertex_values(mesh)\n",
    "    vertex_values_u = u.compute_vertex_values(mesh)\n",
    "    error = np.max(np.abs(vertex_values_u_D - vertex_values_u))\n",
    "    print('t = %.2f: error = %.3g' % (t, error))\n",
    "\n",
    "    # Update previous solution\n",
    "    u_n.assign(u)"
   ]
  },
  {
   "cell_type": "code",
   "execution_count": null,
   "metadata": {},
   "outputs": [],
   "source": []
  }
 ],
 "metadata": {
  "kernelspec": {
   "display_name": "Python 3",
   "language": "python",
   "name": "python3"
  },
  "language_info": {
   "codemirror_mode": {
    "name": "ipython",
    "version": 3
   },
   "file_extension": ".py",
   "mimetype": "text/x-python",
   "name": "python",
   "nbconvert_exporter": "python",
   "pygments_lexer": "ipython3",
   "version": "3.7.3"
  }
 },
 "nbformat": 4,
 "nbformat_minor": 2
}
